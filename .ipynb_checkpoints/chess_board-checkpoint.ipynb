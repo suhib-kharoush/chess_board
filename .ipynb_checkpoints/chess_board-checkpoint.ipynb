{
 "cells": [
  {
   "cell_type": "code",
   "execution_count": 60,
   "metadata": {},
   "outputs": [
    {
     "data": {
      "text/plain": [
       "'under attack'"
      ]
     },
     "execution_count": 60,
     "metadata": {},
     "output_type": "execute_result"
    },
    {
     "data": {
      "image/png": "[encoded data removed]",
      "text/plain": [
       "<Figure size 432x288 with 1 Axes>"
      ]
     },
     "metadata": {
      "needs_background": "light"
     },
     "output_type": "display_data"
    }
   ],
   "source": [
    "import numpy as np \n",
    "import matplotlib.pyplot as plt\n",
    "\n",
    "class ChessBoard:\n",
    "    \n",
    "    def __init__(self):\n",
    "        self.grid = np.zeros((8, 8, 3))\n",
    "        for i in range(8):\n",
    "            for x in range(8):\n",
    "                if (i%2==0 and x%2==0) or (i%2==1 and x%2==1):\n",
    "                    self.grid[i, x] = [1, 1, 1] \n",
    "    \n",
    "    def is_under_attack(self, red, blue):\n",
    "        if red[0]==blue[0] or red[1]==blue[1] or self.is_diagonal(red, blue):\n",
    "            return True\n",
    "        \n",
    "    def add_red(self, red):\n",
    "        self.grid[red[0], red[1]] = [1, 0, 0]\n",
    "        \n",
    "    def add_blue(self, blue):\n",
    "        self.grid[blue[0], blue[1]] = [0,0, 1]\n",
    "        \n",
    "    def is_diagonal(self, plate0, plate1):\n",
    "        x_diagonal = abs(plate0[0] - plate1[0])\n",
    "        y_diagonal = abs(plate0[1] - plate1[1])\n",
    "        return x_diagonal==y_diagonal\n",
    "    \n",
    "    def render(self ,red:list, blue:list):\n",
    "     self.grid = np.zeros((8,8,3))\n",
    "     for i in range(8):\n",
    "            for x in range(8):\n",
    "                if (i%2 == 0 and x%2 == 0) or (i%2 == 1 and x%2 == 1):\n",
    "                    self.grid[i,x]= [1,1,1]\n",
    "\n",
    "     self.add_red(red)\n",
    "     self.add_blue(blue)\n",
    "     plt.imshow(self.grid)\n",
    "     result = self.is_under_attack(red,blue)\n",
    "     if result == True:\n",
    "         return \"under attack\"\n",
    "     else:\n",
    "         return \"safe\"\n",
    "    \n",
    "chessBoard.render([4,5],[2,5])\n",
    "def test_chess():\n",
    "    chessBoard  = ChessBoard()\n",
    "    expected = [\"under attack\",\"under attack\",\"under attack\",\"safe\"]\n",
    "    actual = [chessBoard.render([1,5],[4,5]),chessBoard.render([4,3],[4,5]),chessBoard.render([4,5],[2,5]),chessBoard.render([1,3],[2,5])]\n",
    "    assert expected == actual\n",
    "\n",
    "chessBoard  = ChessBoard()\n",
    "test_chess()\n",
    "chessBoard.render([4,5],[1,5])"
   ]
  },
  {
   "cell_type": "code",
   "execution_count": 62,
   "metadata": {},
   "outputs": [
    {
     "data": {
      "text/plain": [
       "'under attack'"
      ]
     },
     "execution_count": 62,
     "metadata": {},
     "output_type": "execute_result"
    },
    {
     "data": {
      "image/png": "[encoded data removed]",
      "text/plain": [
       "<Figure size 432x288 with 1 Axes>"
      ]
     },
     "metadata": {
      "needs_background": "light"
     },
     "output_type": "display_data"
    }
   ],
   "source": [
    "def test_chess():\n",
    "    chessBoard  = ChessBoard()\n",
    "    expected = [\"under attack\",\"under attack\",\"under attack\",\"safe\"]\n",
    "    actual = [chessBoard.render([1,5],[4,5]),chessBoard.render([4,3],[4,5]),chessBoard.render([4,5],[2,5]),chessBoard.render([1,3],[2,5])]\n",
    "    assert expected == actual\n",
    "\n",
    "chessBoard  = ChessBoard()\n",
    "test_chess()\n",
    "chessBoard.render([4,5],[4,2])"
   ]
  },
  {
   "cell_type": "code",
   "execution_count": 63,
   "metadata": {},
   "outputs": [
    {
     "ename": "SyntaxError",
     "evalue": "closing parenthesis ']' does not match opening parenthesis '(' (<ipython-input-63-1b0b918cc22b>, line 9)",
     "output_type": "error",
     "traceback": [
      "\u001b[0;36m  File \u001b[0;32m\"<ipython-input-63-1b0b918cc22b>\"\u001b[0;36m, line \u001b[0;32m9\u001b[0m\n\u001b[0;31m    chessBoard.render(1,3],[1,4])\u001b[0m\n\u001b[0m                         ^\u001b[0m\n\u001b[0;31mSyntaxError\u001b[0m\u001b[0;31m:\u001b[0m closing parenthesis ']' does not match opening parenthesis '('\n"
     ]
    }
   ],
   "source": [
    "def test_chess():\n",
    "    chessBoard  = ChessBoard()\n",
    "    expected = [\"under attack\",\"under attack\",\"under attack\",\"safe\"]\n",
    "    actual = [chessBoard.render([1,5],[4,5]),chessBoard.render([4,3],[4,5]),chessBoard.render([4,5],[2,5]),chessBoard.render([1,3],[2,5])]\n",
    "    assert expected == actual\n",
    "\n",
    "chessBoard  = ChessBoard()\n",
    "test_chess()\n",
    "chessBoard.render([1,3],[1,4])"
   ]
  },
  {
   "cell_type": "code",
   "execution_count": null,
   "metadata": {},
   "outputs": [],
   "source": []
  }
 ],
 "metadata": {
  "kernelspec": {
   "display_name": "Python 3",
   "language": "python",
   "name": "python3"
  },
  "language_info": {
   "codemirror_mode": {
    "name": "ipython",
    "version": 3
   },
   "file_extension": ".py",
   "mimetype": "text/x-python",
   "name": "python",
   "nbconvert_exporter": "python",
   "pygments_lexer": "ipython3",
   "version": "3.9.4"
  }
 },
 "nbformat": 4,
 "nbformat_minor": 4
}
